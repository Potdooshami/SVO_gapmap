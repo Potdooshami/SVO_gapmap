{
  "nbformat": 4,
  "nbformat_minor": 0,
  "metadata": {
    "colab": {
      "provenance": [],
      "authorship_tag": "ABX9TyOjsFL0lk4CeuKqs6HFgFoi",
      "include_colab_link": true
    },
    "kernelspec": {
      "name": "python3",
      "display_name": "Python 3"
    },
    "language_info": {
      "name": "python"
    }
  },
  "cells": [
    {
      "cell_type": "markdown",
      "metadata": {
        "id": "view-in-github",
        "colab_type": "text"
      },
      "source": [
        "<a href=\"https://colab.research.google.com/github/Potdooshami/SVO_gapmap/blob/main/svoload.ipynb\" target=\"_parent\"><img src=\"https://colab.research.google.com/assets/colab-badge.svg\" alt=\"Open In Colab\"/></a>"
      ]
    },
    {
      "cell_type": "code",
      "execution_count": 1,
      "metadata": {
        "id": "NLqS0WyBMC08"
      },
      "outputs": [],
      "source": [
        "fnfolder =  '/content/drive/MyDrive/svo'\n",
        "fn = '/content/drive/MyDrive/svo/StatitiscalPack(v4_3).mat'"
      ]
    },
    {
      "cell_type": "code",
      "source": [
        "from google.colab import drive\n",
        "drive.mount('/content/drive')"
      ],
      "metadata": {
        "id": "cUPjo125Rcnt"
      },
      "execution_count": null,
      "outputs": []
    },
    {
      "cell_type": "code",
      "source": [
        "from scipy.io import loadmat\n",
        "\n",
        "file_path = '/content/drive/MyDrive/svo/StatitiscalPack(v4_3).mat'\n",
        "data = loadmat(file_path)\n",
        "\n",
        "# Now you can work with the 'data' variable\n",
        "print(data.keys())"
      ],
      "metadata": {
        "id": "9FW1r9KDTXBy"
      },
      "execution_count": null,
      "outputs": []
    },
    {
      "cell_type": "code",
      "source": [
        "data['sp']\n",
        "'commitTest'"
      ],
      "metadata": {
        "id": "ClPQ8MY_X_UJ"
      },
      "execution_count": null,
      "outputs": []
    },
    {
      "cell_type": "code",
      "source": [
        "data['sp']['hd']"
      ],
      "metadata": {
        "id": "rzQd4BnNTjHs"
      },
      "execution_count": null,
      "outputs": []
    },
    {
      "cell_type": "markdown",
      "source": [
        "# Data restructuing is needed.\n",
        "`scipy.io.loadmat`  load struct file too awfully...  \n",
        "need to make a modifed `.mat` file."
      ],
      "metadata": {
        "id": "wX5-_QIhfHMJ"
      }
    },
    {
      "cell_type": "code",
      "source": [],
      "metadata": {
        "id": "fpihO_5SgEj-"
      },
      "execution_count": null,
      "outputs": []
    }
  ]
}