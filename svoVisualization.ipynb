{
  "nbformat": 4,
  "nbformat_minor": 0,
  "metadata": {
    "colab": {
      "provenance": [],
      "authorship_tag": "ABX9TyM18HbqgK68H36zcnM3uTgE",
      "include_colab_link": true
    },
    "kernelspec": {
      "name": "python3",
      "display_name": "Python 3"
    },
    "language_info": {
      "name": "python"
    }
  },
  "cells": [
    {
      "cell_type": "markdown",
      "metadata": {
        "id": "view-in-github",
        "colab_type": "text"
      },
      "source": [
        "<a href=\"https://colab.research.google.com/github/Potdooshami/SVO_gapmap/blob/main/svoVisualization.ipynb\" target=\"_parent\"><img src=\"https://colab.research.google.com/assets/colab-badge.svg\" alt=\"Open In Colab\"/></a>"
      ]
    },
    {
      "cell_type": "markdown",
      "source": [
        "\n",
        "G: STS (ix,iy,iE,iH)  \n",
        "Z: Topography (ix,iy,iH)  \n",
        "stat: result of G process (ix,iy,iH,iS) iS={gap, peakH , subgapSate}  \n",
        "V: Bias  \n",
        "nano: nanometer"
      ],
      "metadata": {
        "id": "0XkJM2PRNhaw"
      }
    },
    {
      "cell_type": "code",
      "source": [
        "# @title load raw data\n",
        "# @markdown Do not touch this!!\n",
        "from google.colab import drive\n",
        "\n",
        "import h5py\n",
        "import numpy as np\n",
        "drive.mount('/content/drive')\n",
        "file_path = '/content/drive/MyDrive/svo/fromMatlab/svo.h5'  # Replace with your actual file path\n",
        "\n",
        "with h5py.File(file_path, 'r') as f:\n",
        "    for key in f.keys():\n",
        "        data = f[key][:]  # Load the dataset\n",
        "        rank = data.ndim  # Get the rank\n",
        "        transpose_order = tuple(range(rank - 1, -1, -1))  # Create transpose order\n",
        "        globals()[key] = np.transpose(data, transpose_order)  # Transpose and assign\n",
        "\n",
        "# Now you can access the datasets using their names (e.g., G, sp, V) with transposed indices"
      ],
      "metadata": {
        "colab": {
          "base_uri": "https://localhost:8080/"
        },
        "cellView": "form",
        "id": "e4Woyz2iblz5",
        "outputId": "0167eb15-503e-4a46-b550-85918b4da1af"
      },
      "execution_count": 6,
      "outputs": [
        {
          "output_type": "stream",
          "name": "stdout",
          "text": [
            "Drive already mounted at /content/drive; to attempt to forcibly remount, call drive.mount(\"/content/drive\", force_remount=True).\n"
          ]
        }
      ]
    },
    {
      "cell_type": "code",
      "source": [
        "Z.shape"
      ],
      "metadata": {
        "colab": {
          "base_uri": "https://localhost:8080/"
        },
        "id": "Wu2GmO4XZPuM",
        "outputId": "93d8bac7-f014-40a3-d2a0-3cf3ba90158b"
      },
      "execution_count": 8,
      "outputs": [
        {
          "output_type": "execute_result",
          "data": {
            "text/plain": [
              "(461, 461, 2)"
            ]
          },
          "metadata": {},
          "execution_count": 8
        }
      ]
    }
  ]
}